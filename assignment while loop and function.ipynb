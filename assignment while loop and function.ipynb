{
 "cells": [
  {
   "cell_type": "markdown",
   "id": "89eca1c9-fabd-4e4b-9e15-91a5b371146d",
   "metadata": {},
   "source": [
    "# While Loop practicals:\n"
   ]
  },
  {
   "cell_type": "markdown",
   "id": "cc313168-8008-4872-b5d4-18cd8f6aacc4",
   "metadata": {},
   "source": [
    "1. Print Numbers from 1 to 10\n",
    "\n",
    "Expected Output: 1 2 3 ... 10"
   ]
  },
  {
   "cell_type": "code",
   "execution_count": 1,
   "id": "082373d1-5f1f-4efc-91d5-d71b062fcef3",
   "metadata": {},
   "outputs": [
    {
     "name": "stdout",
     "output_type": "stream",
     "text": [
      "1\n",
      "2\n",
      "3\n",
      "4\n",
      "5\n",
      "6\n",
      "7\n",
      "8\n",
      "9\n",
      "10\n"
     ]
    }
   ],
   "source": [
    "a = 1\n",
    "while a <= 10:\n",
    "    print(a)\n",
    "    a += 1\n",
    "    # a= a+1"
   ]
  },
  {
   "cell_type": "markdown",
   "id": "62904ca5-647f-4a0a-9128-ee6e3a927029",
   "metadata": {},
   "source": [
    "2. Sum of Numbers from 1 to N\n",
    "\n",
    "Input: 5\n",
    "Expected Output: 15 (1+2+3+4+5)"
   ]
  },
  {
   "cell_type": "code",
   "execution_count": 7,
   "id": "51ab6952-fa59-444e-b189-0bd664470669",
   "metadata": {},
   "outputs": [],
   "source": [
    "def sum_to_n_while(n):\n",
    "    total = 0\n",
    "    current = 1\n",
    "    while current <= n:\n",
    "        total += current\n",
    "        current += 1\n",
    "    return total\n"
   ]
  },
  {
   "cell_type": "code",
   "execution_count": 8,
   "id": "529e7041-f327-40a7-b092-0f5c4e48f936",
   "metadata": {},
   "outputs": [
    {
     "data": {
      "text/plain": [
       "15"
      ]
     },
     "execution_count": 8,
     "metadata": {},
     "output_type": "execute_result"
    }
   ],
   "source": [
    "sum_to_n_while(5)"
   ]
  },
  {
   "cell_type": "markdown",
   "id": "13789954-de36-4a50-95fe-d518ef86d1e4",
   "metadata": {},
   "source": [
    "3. Print Even Numbers up to N\n",
    "Input: 10\n",
    "Expected Output: 2 4 6 8 10"
   ]
  },
  {
   "cell_type": "code",
   "execution_count": 9,
   "id": "99d011c4-ee3b-4467-b94f-65809d0633ef",
   "metadata": {},
   "outputs": [
    {
     "name": "stdout",
     "output_type": "stream",
     "text": [
      "2 4 6 8 10 "
     ]
    }
   ],
   "source": [
    "n = 10\n",
    "a = 1\n",
    "while a <= n:\n",
    "    if a % 2 == 0:\n",
    "        print(a, end=\" \")\n",
    "    a = a + 1\n"
   ]
  },
  {
   "cell_type": "markdown",
   "id": "79ad6479-8f46-47c7-8e75-c1cdead971ce",
   "metadata": {},
   "source": [
    "4. Count Digits in a Number\n",
    "\n",
    "Input: 12345\n",
    "Expected Output: 5\n",
    "\n"
   ]
  },
  {
   "cell_type": "code",
   "execution_count": 11,
   "id": "171a7042-b8e3-4927-8c3b-97b4c4e1e4f5",
   "metadata": {},
   "outputs": [
    {
     "name": "stdout",
     "output_type": "stream",
     "text": [
      "5\n"
     ]
    }
   ],
   "source": [
    "n = 12345\n",
    "count = 0\n",
    "\n",
    "while n> 0:\n",
    "    n = n // 10\n",
    "    count += 1\n",
    "\n",
    "print(count)\n"
   ]
  },
  {
   "cell_type": "markdown",
   "id": "dc0e3104-1854-4833-92fb-111460507513",
   "metadata": {},
   "source": [
    "5.Reverse a Number\n",
    "Input: 1234\n",
    "Output: 4321\n"
   ]
  },
  {
   "cell_type": "code",
   "execution_count": 12,
   "id": "b72b775b-2ec5-4fe5-a87f-fcd7abf23267",
   "metadata": {},
   "outputs": [
    {
     "name": "stdout",
     "output_type": "stream",
     "text": [
      "4321\n"
     ]
    }
   ],
   "source": [
    "num = 1234\n",
    "rev = 0\n",
    "\n",
    "while num > 0:\n",
    "    digit = num % 10\n",
    "    rev = rev * 10 + digit\n",
    "    num = num // 10\n",
    "\n",
    "print(rev)\n"
   ]
  },
  {
   "cell_type": "markdown",
   "id": "bbd4260f-4c37-48e1-a591-809c8ed01726",
   "metadata": {},
   "source": [
    "6. Check if a Number is a Palindrome\n",
    "Input: 121\n",
    "Output: True"
   ]
  },
  {
   "cell_type": "code",
   "execution_count": 15,
   "id": "5c82cab5-a64b-4e6f-a7ea-568a95f8bc38",
   "metadata": {},
   "outputs": [
    {
     "name": "stdout",
     "output_type": "stream",
     "text": [
      "True\n"
     ]
    }
   ],
   "source": [
    "num = 121\n",
    "rev = 0\n",
    "temp = num\n",
    "\n",
    "while temp > 0:\n",
    "    rev = rev * 10 + temp % 10\n",
    "    temp //= 10\n",
    "\n",
    "print(rev == num)\n"
   ]
  },
  {
   "cell_type": "markdown",
   "id": "2dad334b-1aff-40f2-8e13-b80d88ab13a6",
   "metadata": {},
   "source": [
    "# Funcitons:\n"
   ]
  },
  {
   "cell_type": "markdown",
   "id": "260be148-5b0c-4779-84a6-a3a66a33896b",
   "metadata": {},
   "source": [
    "Function to Add Two Numbers\n",
    "\n",
    "1. def add(a, b):\n",
    "    #Your code here"
   ]
  },
  {
   "cell_type": "code",
   "execution_count": 16,
   "id": "0cb1dcdf-51f8-4d90-8b39-1ad2910e791a",
   "metadata": {},
   "outputs": [],
   "source": [
    "def add(a,b):\n",
    "    return a+b"
   ]
  },
  {
   "cell_type": "code",
   "execution_count": 17,
   "id": "ca3b8808-3106-4836-a4fd-bc620e21cc7a",
   "metadata": {},
   "outputs": [
    {
     "data": {
      "text/plain": [
       "10"
      ]
     },
     "execution_count": 17,
     "metadata": {},
     "output_type": "execute_result"
    }
   ],
   "source": [
    "add(4,6)"
   ]
  },
  {
   "cell_type": "markdown",
   "id": "a7cce03f-43f4-4440-80d2-ecc1523f7697",
   "metadata": {},
   "source": [
    "2 .Function to Find Maximum of Three Numbers\n",
    "\n",
    " def max_of_three(a, b, c):\n",
    "    # Your code here"
   ]
  },
  {
   "cell_type": "code",
   "execution_count": 26,
   "id": "01ec85d4-db80-4ab9-9474-ccbd30bbae55",
   "metadata": {},
   "outputs": [],
   "source": [
    "def max_of_three(a, b, c):\n",
    "    if a >= b and a >= c:\n",
    "        return a\n",
    "    elif b >= a and b >= c:\n",
    "        return b\n",
    "    else:\n",
    "        return c\n"
   ]
  },
  {
   "cell_type": "code",
   "execution_count": 27,
   "id": "95d8e209-0cee-452b-bb2e-a7711273b7f7",
   "metadata": {},
   "outputs": [
    {
     "data": {
      "text/plain": [
       "8"
      ]
     },
     "execution_count": 27,
     "metadata": {},
     "output_type": "execute_result"
    }
   ],
   "source": [
    "max_of_three(2,3,8)"
   ]
  },
  {
   "cell_type": "markdown",
   "id": "5786b188-e274-48a4-b9b5-8ac746874338",
   "metadata": {},
   "source": [
    "3.Function to Check Prime Number\n",
    "\n",
    "def is_prime(n):\n",
    "    # Returns True if prime, else False"
   ]
  },
  {
   "cell_type": "code",
   "execution_count": 28,
   "id": "4c2ae66d-54eb-43a6-a5c0-d2ed010d98ae",
   "metadata": {},
   "outputs": [
    {
     "name": "stdin",
     "output_type": "stream",
     "text": [
      "please enter a value 7\n"
     ]
    },
    {
     "name": "stdout",
     "output_type": "stream",
     "text": [
      "number is prime\n"
     ]
    }
   ],
   "source": [
    "\n",
    "n = int(input(\"please enter a value\"))\n",
    "c = 0\n",
    "for i in range(1 , n+1):\n",
    "    if n % i== 0:\n",
    "        c= c+1\n",
    "if c==2 :\n",
    "    print(\"number is prime\")\n",
    "else:\n",
    "    print('number is not prime')"
   ]
  },
  {
   "cell_type": "markdown",
   "id": "721d70e2-933b-4719-b175-1b57f9e10ea5",
   "metadata": {},
   "source": [
    "4. Function to Calculate Factorial\n",
    "\n",
    "def factorial(n):\n",
    "    #Your code here using while loop\n"
   ]
  },
  {
   "cell_type": "code",
   "execution_count": 31,
   "id": "fd466066-d5e2-48e7-bcf8-0d901d177a84",
   "metadata": {},
   "outputs": [],
   "source": [
    "def factorial(n):\n",
    "    if n < 0:\n",
    "        return \"Factorial not defined for negative numbers\"\n",
    "    result = 1\n",
    "    for i in range(1, n + 1):\n",
    "        result *= i\n",
    "    return result\n"
   ]
  },
  {
   "cell_type": "code",
   "execution_count": 33,
   "id": "9e7be24b-54b8-4d6c-9bf3-773edf46ca22",
   "metadata": {},
   "outputs": [
    {
     "data": {
      "text/plain": [
       "120"
      ]
     },
     "execution_count": 33,
     "metadata": {},
     "output_type": "execute_result"
    }
   ],
   "source": [
    "factorial(5)"
   ]
  },
  {
   "cell_type": "markdown",
   "id": "a1077ad0-71f5-405e-ac50-361afdd2d27f",
   "metadata": {},
   "source": [
    "5.Function to Print Fibonacci Series up to N terms\n",
    "\n",
    "def fibonacci(n):\n",
    "    #Your code here using while loop"
   ]
  },
  {
   "cell_type": "code",
   "execution_count": 34,
   "id": "c8a8a738-bdf3-4058-b64c-ff036f5a1f38",
   "metadata": {},
   "outputs": [],
   "source": [
    "def fibonacci(n):\n",
    "    a, b = 0, 1\n",
    "    for i in range(n):\n",
    "        print(a, end=\" \")\n",
    "        a, b = b, a + b\n"
   ]
  },
  {
   "cell_type": "code",
   "execution_count": 35,
   "id": "aa470aa0-26f1-4242-8dc8-5544a9c39a5f",
   "metadata": {},
   "outputs": [
    {
     "name": "stdout",
     "output_type": "stream",
     "text": [
      "0 1 1 2 3 5 8 "
     ]
    }
   ],
   "source": [
    "fibonacci(7)"
   ]
  },
  {
   "cell_type": "markdown",
   "id": "9d7b5b1f-cbfe-4b0e-84cd-f32c1f6ee399",
   "metadata": {},
   "source": [
    "6.Function to Count Vowels in a String\n",
    "def count_vowels(s):\n",
    "    #Your code here\n"
   ]
  },
  {
   "cell_type": "code",
   "execution_count": 36,
   "id": "59854b17-ae74-48e1-8b6a-017a8e87ee7c",
   "metadata": {},
   "outputs": [],
   "source": [
    "def count_vowels(s):\n",
    "    vowels = \"aeiouAEIOU\"\n",
    "    count = 0\n",
    "    for i in s:\n",
    "        if i in vowels:\n",
    "            count += 1\n",
    "    return count\n",
    "\n"
   ]
  },
  {
   "cell_type": "code",
   "execution_count": 37,
   "id": "c1aaa3e2-da03-4dc1-85bd-d2e46aca8fae",
   "metadata": {},
   "outputs": [
    {
     "data": {
      "text/plain": [
       "7"
      ]
     },
     "execution_count": 37,
     "metadata": {},
     "output_type": "execute_result"
    }
   ],
   "source": [
    "count_vowels(\"Data Science with Python\")"
   ]
  },
  {
   "cell_type": "code",
   "execution_count": null,
   "id": "a2b55bac-e5fb-427e-834e-211ea7de5d88",
   "metadata": {},
   "outputs": [],
   "source": []
  }
 ],
 "metadata": {
  "kernelspec": {
   "display_name": "Python 3 (ipykernel)",
   "language": "python",
   "name": "python3"
  },
  "language_info": {
   "codemirror_mode": {
    "name": "ipython",
    "version": 3
   },
   "file_extension": ".py",
   "mimetype": "text/x-python",
   "name": "python",
   "nbconvert_exporter": "python",
   "pygments_lexer": "ipython3",
   "version": "3.13.5"
  }
 },
 "nbformat": 4,
 "nbformat_minor": 5
}
